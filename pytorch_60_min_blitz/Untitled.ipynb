{
 "cells": [
  {
   "cell_type": "code",
   "execution_count": 13,
   "metadata": {},
   "outputs": [],
   "source": [
    "import torch\n"
   ]
  },
  {
   "cell_type": "code",
   "execution_count": 49,
   "metadata": {},
   "outputs": [
    {
     "name": "stdout",
     "output_type": "stream",
     "text": [
      "tensor([[1.],\n",
      "        [1.],\n",
      "        [1.]], requires_grad=True)\n",
      "t.grad: None\n",
      "tensor([[1.],\n",
      "        [1.],\n",
      "        [1.]], requires_grad=True)\n",
      "p.grad: None\n",
      "\n",
      "tensor([[12.],\n",
      "        [12.],\n",
      "        [12.]], grad_fn=<MulBackward>)\n",
      "t.grad: tensor([[12.],\n",
      "        [12.],\n",
      "        [12.]])\n",
      "p.grad: None\n",
      "\n"
     ]
    }
   ],
   "source": [
    "\n",
    "t = torch.ones(3, 1, requires_grad=True)\n",
    "# t = t + 10\n",
    "p = torch.ones(3, 1, requires_grad=True)\n",
    "# p = p + 5\n",
    "print(t)\n",
    "print('t.grad:', t.grad)\n",
    "print(p)\n",
    "print('p.grad:', p.grad)\n",
    "print()\n",
    "\n",
    "y = 12*t #+ 3*p\n",
    "print(y)\n",
    "\n",
    "y.backward(t)\n",
    "print('t.grad:', t.grad)\n",
    "print('p.grad:', p.grad)\n",
    "print()\n"
   ]
  },
  {
   "cell_type": "code",
   "execution_count": null,
   "metadata": {},
   "outputs": [],
   "source": []
  },
  {
   "cell_type": "code",
   "execution_count": null,
   "metadata": {},
   "outputs": [],
   "source": []
  },
  {
   "cell_type": "code",
   "execution_count": null,
   "metadata": {},
   "outputs": [],
   "source": []
  }
 ],
 "metadata": {
  "kernelspec": {
   "display_name": "Python 3",
   "language": "python",
   "name": "python3"
  },
  "language_info": {
   "codemirror_mode": {
    "name": "ipython",
    "version": 3
   },
   "file_extension": ".py",
   "mimetype": "text/x-python",
   "name": "python",
   "nbconvert_exporter": "python",
   "pygments_lexer": "ipython3",
   "version": "3.6.6"
  }
 },
 "nbformat": 4,
 "nbformat_minor": 2
}
